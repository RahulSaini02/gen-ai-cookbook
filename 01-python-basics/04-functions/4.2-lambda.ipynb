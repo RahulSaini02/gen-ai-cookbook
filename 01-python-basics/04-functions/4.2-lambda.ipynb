{
 "cells": [
  {
   "cell_type": "markdown",
   "id": "69329f03",
   "metadata": {},
   "source": [
    "# Lambda\n",
    "\n",
    "Lambda is a anonymous function defines using `lambda` keyword. They can take any number of keywords, but support only single expressio."
   ]
  },
  {
   "cell_type": "markdown",
   "id": "c113c707",
   "metadata": {},
   "source": [
    "## Syntax\n",
    "\n",
    "```python\n",
    "lambda arguments: expression"
   ]
  },
  {
   "cell_type": "code",
   "execution_count": 1,
   "id": "d6dce1f6",
   "metadata": {},
   "outputs": [],
   "source": [
    "# basic function\n",
    "def addition(a, b):\n",
    "  return a + b"
   ]
  },
  {
   "cell_type": "code",
   "execution_count": 3,
   "id": "67a1d2b8",
   "metadata": {},
   "outputs": [
    {
     "data": {
      "text/plain": [
       "11"
      ]
     },
     "execution_count": 3,
     "metadata": {},
     "output_type": "execute_result"
    }
   ],
   "source": [
    "addition(5, 6)"
   ]
  },
  {
   "cell_type": "code",
   "execution_count": 6,
   "id": "3e9d9aa7",
   "metadata": {},
   "outputs": [],
   "source": [
    "addition1 = lambda a, b: a + b"
   ]
  },
  {
   "cell_type": "code",
   "execution_count": 7,
   "id": "895e2a43",
   "metadata": {},
   "outputs": [
    {
     "data": {
      "text/plain": [
       "30"
      ]
     },
     "execution_count": 7,
     "metadata": {},
     "output_type": "execute_result"
    }
   ],
   "source": [
    "addition1(10, 20)"
   ]
  },
  {
   "cell_type": "code",
   "execution_count": 8,
   "id": "5f596eeb",
   "metadata": {},
   "outputs": [],
   "source": [
    "def even(num):\n",
    "  if num%2 == 0:\n",
    "    return True\n",
    "  return False"
   ]
  },
  {
   "cell_type": "code",
   "execution_count": 9,
   "id": "fff35249",
   "metadata": {},
   "outputs": [
    {
     "data": {
      "text/plain": [
       "True"
      ]
     },
     "execution_count": 9,
     "metadata": {},
     "output_type": "execute_result"
    }
   ],
   "source": [
    "even(20)"
   ]
  },
  {
   "cell_type": "code",
   "execution_count": 10,
   "id": "e77f4b6e",
   "metadata": {},
   "outputs": [],
   "source": [
    "even1 = lambda num: num%2==0"
   ]
  },
  {
   "cell_type": "code",
   "execution_count": 11,
   "id": "c3536d83",
   "metadata": {},
   "outputs": [
    {
     "data": {
      "text/plain": [
       "False"
      ]
     },
     "execution_count": 11,
     "metadata": {},
     "output_type": "execute_result"
    }
   ],
   "source": [
    "even1(25)"
   ]
  }
 ],
 "metadata": {
  "kernelspec": {
   "display_name": "base",
   "language": "python",
   "name": "python3"
  },
  "language_info": {
   "codemirror_mode": {
    "name": "ipython",
    "version": 3
   },
   "file_extension": ".py",
   "mimetype": "text/x-python",
   "name": "python",
   "nbconvert_exporter": "python",
   "pygments_lexer": "ipython3",
   "version": "3.12.7"
  }
 },
 "nbformat": 4,
 "nbformat_minor": 5
}
