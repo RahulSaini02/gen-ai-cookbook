{
 "cells": [
  {
   "cell_type": "markdown",
   "id": "ff7b5192",
   "metadata": {},
   "source": [
    "# Filter\n",
    "\n",
    "The `filter()` function constructs an iterator from elements of an iterable for which a function returns true. It is used to filter out items from a list bases on a condition."
   ]
  },
  {
   "cell_type": "code",
   "execution_count": 1,
   "id": "132d262e",
   "metadata": {},
   "outputs": [],
   "source": [
    "def even(num):\n",
    "  if num%2 == 0:\n",
    "    return True\n",
    "  return False"
   ]
  },
  {
   "cell_type": "code",
   "execution_count": 2,
   "id": "3742ec53",
   "metadata": {},
   "outputs": [
    {
     "data": {
      "text/plain": [
       "True"
      ]
     },
     "execution_count": 2,
     "metadata": {},
     "output_type": "execute_result"
    }
   ],
   "source": [
    "even(24)"
   ]
  },
  {
   "cell_type": "code",
   "execution_count": 3,
   "id": "2b61b52f",
   "metadata": {},
   "outputs": [
    {
     "data": {
      "text/plain": [
       "[2, 4, 6, 8, 10, 12]"
      ]
     },
     "execution_count": 3,
     "metadata": {},
     "output_type": "execute_result"
    }
   ],
   "source": [
    "# If I want to filter the even numbers from the below list\n",
    "numbers = [1, 2, 3, 4, 5, 6, 7, 8, 9, 10, 11, 12]\n",
    "\n",
    "list(filter(even, numbers))"
   ]
  },
  {
   "cell_type": "code",
   "execution_count": 4,
   "id": "51f9505a",
   "metadata": {},
   "outputs": [
    {
     "data": {
      "text/plain": [
       "[6, 7, 8, 9, 10, 11, 12]"
      ]
     },
     "execution_count": 4,
     "metadata": {},
     "output_type": "execute_result"
    }
   ],
   "source": [
    "# Filter numbers that are greater than 5\n",
    "list(filter(lambda x: x > 5, numbers))"
   ]
  },
  {
   "cell_type": "code",
   "execution_count": 5,
   "id": "019d569f",
   "metadata": {},
   "outputs": [
    {
     "data": {
      "text/plain": [
       "[6, 8, 10, 12]"
      ]
     },
     "execution_count": 5,
     "metadata": {},
     "output_type": "execute_result"
    }
   ],
   "source": [
    "# Filter with a lambda function and multiple conditions\n",
    "# Numbers that are even and greater than 5\n",
    "\n",
    "list(filter(lambda x : x > 5 and x%2 == 0, numbers))"
   ]
  },
  {
   "cell_type": "code",
   "execution_count": 8,
   "id": "549ccc32",
   "metadata": {},
   "outputs": [
    {
     "data": {
      "text/plain": [
       "[{'name': 'John', 'age': 35},\n",
       " {'name': 'Sally', 'age': 30},\n",
       " {'name': 'Nathan', 'age': 28}]"
      ]
     },
     "execution_count": 8,
     "metadata": {},
     "output_type": "execute_result"
    }
   ],
   "source": [
    "# Filter to check if the age is greater than 25\n",
    "\n",
    "people = [\n",
    "  {'name': 'Jack', 'age': 25},\n",
    "  {'name': 'John', 'age': 35},\n",
    "  {'name': 'Smith', 'age': 18},\n",
    "  {'name': 'Sally', 'age': 30},\n",
    "  {'name': 'Nathan', 'age': 28},\n",
    "]\n",
    "\n",
    "list(filter(lambda person: person['age'] > 25, people))"
   ]
  }
 ],
 "metadata": {
  "kernelspec": {
   "display_name": "base",
   "language": "python",
   "name": "python3"
  },
  "language_info": {
   "codemirror_mode": {
    "name": "ipython",
    "version": 3
   },
   "file_extension": ".py",
   "mimetype": "text/x-python",
   "name": "python",
   "nbconvert_exporter": "python",
   "pygments_lexer": "ipython3",
   "version": "3.12.7"
  }
 },
 "nbformat": 4,
 "nbformat_minor": 5
}
