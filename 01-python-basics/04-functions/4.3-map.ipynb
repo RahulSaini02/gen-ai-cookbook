{
 "cells": [
  {
   "cell_type": "markdown",
   "id": "7248ed07",
   "metadata": {},
   "source": [
    "# Map\n",
    "\n",
    "The `map()` function applies a given function to all items in an input list and returns a map object(an iterator). This is particularly useful for transforming data in a list comprehensively."
   ]
  },
  {
   "cell_type": "code",
   "execution_count": 1,
   "id": "705a1c8c",
   "metadata": {},
   "outputs": [],
   "source": [
    "# basic function to square a number\n",
    "def square(x):\n",
    "  return x**2"
   ]
  },
  {
   "cell_type": "code",
   "execution_count": 2,
   "id": "17c81ede",
   "metadata": {},
   "outputs": [],
   "source": [
    "# get a list of squared values of the values in numbers\n",
    "numbers = [1, 2, 3, 4, 5, 6, 7, 8, 9]\n",
    "\n",
    "result = []\n",
    "for num in numbers:\n",
    "  result.append(square(num))"
   ]
  },
  {
   "cell_type": "code",
   "execution_count": 3,
   "id": "b32756a0",
   "metadata": {},
   "outputs": [
    {
     "data": {
      "text/plain": [
       "[1, 4, 9, 16, 25, 36, 49, 64, 81]"
      ]
     },
     "execution_count": 3,
     "metadata": {},
     "output_type": "execute_result"
    }
   ],
   "source": [
    "result"
   ]
  },
  {
   "cell_type": "code",
   "execution_count": 4,
   "id": "38df6a62",
   "metadata": {},
   "outputs": [
    {
     "data": {
      "text/plain": [
       "[1, 4, 9, 16, 25, 36, 49, 64, 81]"
      ]
     },
     "execution_count": 4,
     "metadata": {},
     "output_type": "execute_result"
    }
   ],
   "source": [
    "# doing the same using map()\n",
    "\n",
    "result1 = list(map(lambda x: x**2, numbers))\n",
    "\n",
    "result1"
   ]
  },
  {
   "cell_type": "code",
   "execution_count": null,
   "id": "1266b41f",
   "metadata": {},
   "outputs": [
    {
     "data": {
      "text/plain": [
       "[3, 7, 11]"
      ]
     },
     "execution_count": 5,
     "metadata": {},
     "output_type": "execute_result"
    }
   ],
   "source": [
    "#  Map multiple iterables\n",
    "\n",
    "even = [2, 4, 6]\n",
    "odd = [1, 3, 5]\n",
    "\n",
    "added_numbers=list(map(lambda x, y: x + y, even, odd))\n",
    "\n",
    "added_numbers"
   ]
  },
  {
   "cell_type": "code",
   "execution_count": 6,
   "id": "04c2c26a",
   "metadata": {},
   "outputs": [
    {
     "data": {
      "text/plain": [
       "[1, 2, 3, 4, 5]"
      ]
     },
     "execution_count": 6,
     "metadata": {},
     "output_type": "execute_result"
    }
   ],
   "source": [
    "## map() to convert a list of strings to integers\n",
    "\n",
    "str_nums = ['1', '2', '3', '4', '5']\n",
    "int_nums = list(map(int, str_nums))\n",
    "\n",
    "int_nums"
   ]
  },
  {
   "cell_type": "markdown",
   "id": "29347348",
   "metadata": {},
   "source": [
    "The `map()` funciton is a powerful tool for applying transformations to iterable data structures. It can be used with regular functions, lambda functions and even multiple iterables, providing a versatile approach to data processing in `Python`."
   ]
  },
  {
   "cell_type": "markdown",
   "id": "63d98d9d",
   "metadata": {},
   "source": []
  }
 ],
 "metadata": {
  "kernelspec": {
   "display_name": "base",
   "language": "python",
   "name": "python3"
  },
  "language_info": {
   "codemirror_mode": {
    "name": "ipython",
    "version": 3
   },
   "file_extension": ".py",
   "mimetype": "text/x-python",
   "name": "python",
   "nbconvert_exporter": "python",
   "pygments_lexer": "ipython3",
   "version": "3.12.7"
  }
 },
 "nbformat": 4,
 "nbformat_minor": 5
}
