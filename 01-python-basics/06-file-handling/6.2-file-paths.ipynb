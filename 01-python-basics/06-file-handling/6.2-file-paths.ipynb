{
 "cells": [
  {
   "cell_type": "code",
   "execution_count": 1,
   "id": "dfc42e02",
   "metadata": {},
   "outputs": [
    {
     "name": "stdout",
     "output_type": "stream",
     "text": [
      "Current working directory is /Users/rahulsaini/Documents/Repositories/gen-ai/python-ml-foundations/01-python-for-ai-ml/02-file-handling\n"
     ]
    }
   ],
   "source": [
    "import os\n",
    "cwd = os.getcwd()\n",
    "print(f\"Current working directory is {cwd}\")"
   ]
  },
  {
   "cell_type": "code",
   "execution_count": 2,
   "id": "fecc3d96",
   "metadata": {},
   "outputs": [
    {
     "name": "stdout",
     "output_type": "stream",
     "text": [
      "Directory 'package' created!\n"
     ]
    }
   ],
   "source": [
    "# create a new directory\n",
    "\n",
    "new_dir = \"package\"\n",
    "\n",
    "os.mkdir(new_dir)\n",
    "print(f\"Directory '{new_dir}' created!\")"
   ]
  },
  {
   "cell_type": "code",
   "execution_count": 3,
   "id": "9419a4b9",
   "metadata": {},
   "outputs": [
    {
     "name": "stdout",
     "output_type": "stream",
     "text": [
      "destination.txt\n",
      "file_paths.ipynb\n",
      "example.bin\n",
      "example.txt\n",
      "file_operations.ipynb\n",
      "package\n"
     ]
    }
   ],
   "source": [
    "# list the files and directories\n",
    "\n",
    "items = os.listdir()\n",
    "\n",
    "for item in items:\n",
    "  print(item)"
   ]
  },
  {
   "cell_type": "code",
   "execution_count": 4,
   "id": "10489a7c",
   "metadata": {},
   "outputs": [
    {
     "name": "stdout",
     "output_type": "stream",
     "text": [
      "File full path: package/file.txt\n"
     ]
    }
   ],
   "source": [
    "# joing paths\n",
    "\n",
    "dir_name = 'package'\n",
    "file_name = 'file.txt'\n",
    "\n",
    "full_path = os.path.join(dir_name, file_name)\n",
    "\n",
    "print(f'File full path: {full_path}')"
   ]
  },
  {
   "cell_type": "code",
   "execution_count": 7,
   "id": "02e3078a",
   "metadata": {},
   "outputs": [
    {
     "name": "stdout",
     "output_type": "stream",
     "text": [
      "The path 'example1.txt' does not exists!\n"
     ]
    }
   ],
   "source": [
    "path = 'example1.txt'\n",
    "\n",
    "if os.path.exists(path):\n",
    "  print(f\"The path '{path}' exists!\")\n",
    "else:\n",
    "  print(f\"The path '{path}' does not exists!\")"
   ]
  },
  {
   "cell_type": "code",
   "execution_count": 8,
   "id": "574bf53e",
   "metadata": {},
   "outputs": [
    {
     "name": "stdout",
     "output_type": "stream",
     "text": [
      "The path 'example.txt' is a file!\n"
     ]
    }
   ],
   "source": [
    "path = \"example.txt\"\n",
    "\n",
    "if os.path.isfile(path):\n",
    "    print(f\"The path '{path}' is a file!\")\n",
    "elif os.path.isdir(path):\n",
    "    print(f\"The path '{path}' is a directory!\")\n",
    "else:\n",
    "    print(f\"The path '{path}' is a not a file or directory!\")\n"
   ]
  },
  {
   "cell_type": "code",
   "execution_count": 9,
   "id": "8b815204",
   "metadata": {},
   "outputs": [
    {
     "name": "stdout",
     "output_type": "stream",
     "text": [
      "The absolute path for file example.txt is /Users/rahulsaini/Documents/Repositories/gen-ai/python-ml-foundations/01-python-for-ai-ml/02-file-handling/example.txt\n"
     ]
    }
   ],
   "source": [
    "# getting the absolute path\n",
    "\n",
    "relative_path = \"example.txt\"\n",
    "absolute_path = os.path.abspath(relative_path)\n",
    "print(f\"The absolute path for file {relative_path} is {absolute_path}\")"
   ]
  }
 ],
 "metadata": {
  "kernelspec": {
   "display_name": "base",
   "language": "python",
   "name": "python3"
  },
  "language_info": {
   "codemirror_mode": {
    "name": "ipython",
    "version": 3
   },
   "file_extension": ".py",
   "mimetype": "text/x-python",
   "name": "python",
   "nbconvert_exporter": "python",
   "pygments_lexer": "ipython3",
   "version": "3.12.7"
  }
 },
 "nbformat": 4,
 "nbformat_minor": 5
}
