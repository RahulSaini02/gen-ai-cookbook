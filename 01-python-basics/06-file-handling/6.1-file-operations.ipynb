{
 "cells": [
  {
   "cell_type": "markdown",
   "id": "fca79a69",
   "metadata": {},
   "source": [
    "File Operation - Read and Write Files\n",
    "\n",
    "File handling is a crucial part of any programming language. Python provides built-in functions and methods to read from and write to files, both text and binary."
   ]
  },
  {
   "cell_type": "code",
   "execution_count": 5,
   "id": "5d99f402",
   "metadata": {},
   "outputs": [
    {
     "name": "stdout",
     "output_type": "stream",
     "text": [
      "Hello World\n",
      "File handling is essential.\n",
      "\n"
     ]
    }
   ],
   "source": [
    "# Read a whole file\n",
    "\n",
    "with open('example.txt', 'r') as file:\n",
    "  content = file.read()\n",
    "  print(content)"
   ]
  },
  {
   "cell_type": "code",
   "execution_count": 6,
   "id": "50f2d8c5",
   "metadata": {},
   "outputs": [
    {
     "name": "stdout",
     "output_type": "stream",
     "text": [
      "Hello World\n",
      "File handling is essential.\n"
     ]
    }
   ],
   "source": [
    "# Read file line by line\n",
    "\n",
    "with open('example.txt', 'r') as file:\n",
    "  for line in file:\n",
    "    print(line.strip()) # strip() removes the new line character\n",
    "  "
   ]
  },
  {
   "cell_type": "code",
   "execution_count": 12,
   "id": "7a1b122d",
   "metadata": {},
   "outputs": [],
   "source": [
    "# writing to a file (Overwrite)\n",
    "\n",
    "with open('example.txt', 'w') as file:\n",
    "  file.write('Hello World\\n')"
   ]
  },
  {
   "cell_type": "code",
   "execution_count": 13,
   "id": "89ba9e54",
   "metadata": {},
   "outputs": [],
   "source": [
    "# Writing a file (without overwriting)\n",
    "\n",
    "with open('example.txt', 'a') as file:\n",
    "  file.write('File handling is essential.\\n')"
   ]
  },
  {
   "cell_type": "code",
   "execution_count": 14,
   "id": "f158d87f",
   "metadata": {},
   "outputs": [],
   "source": [
    "# writing list of lines to a file\n",
    "\n",
    "lines = ['Python is fun \\n', 'Python is simple\\n']\n",
    "\n",
    "with open('example.txt', 'a') as file:\n",
    "  file.writelines(lines)"
   ]
  },
  {
   "cell_type": "code",
   "execution_count": null,
   "id": "066f9161",
   "metadata": {},
   "outputs": [],
   "source": [
    "## Binary file\n",
    "\n",
    "### write into a binary file\n",
    "data = b'\\x00\\x01\\x02\\x03\\x04'\n",
    "\n",
    "with open(\"example.bin\", \"wb\") as file:\n",
    "    file.write(data)"
   ]
  },
  {
   "cell_type": "code",
   "execution_count": 16,
   "id": "cf635025",
   "metadata": {},
   "outputs": [
    {
     "name": "stdout",
     "output_type": "stream",
     "text": [
      "b'\\x00\\x01\\x02\\x03\\x04'\n"
     ]
    }
   ],
   "source": [
    "### read from a binary file\n",
    "\n",
    "with open(\"example.bin\", \"rb\") as file:\n",
    "    content = file.read()\n",
    "    print(content)\n"
   ]
  },
  {
   "cell_type": "code",
   "execution_count": 17,
   "id": "fd30dff9",
   "metadata": {},
   "outputs": [],
   "source": [
    "# read content from one file and write it into other file\n",
    "\n",
    "content = ''\n",
    "\n",
    "with open('example.txt', 'r') as file:\n",
    "    content = file.read()\n",
    "\n",
    "with open(\"destination.txt\", \"a\") as dst_file:\n",
    "    dst_file.write(content)"
   ]
  },
  {
   "cell_type": "code",
   "execution_count": 18,
   "id": "df492c4e",
   "metadata": {},
   "outputs": [
    {
     "name": "stdout",
     "output_type": "stream",
     "text": [
      "Lines: 4, Words: 12, Charcters: 72\n"
     ]
    }
   ],
   "source": [
    "# Read a text file and count the number of lines, words and characters.\n",
    "\n",
    "def count_text_file(file_path):\n",
    "    with open(file_path, \"r\") as file:\n",
    "        lines = file.readlines()\n",
    "        line_count = len(lines)\n",
    "        word_count = sum(len(line.split()) for line in lines)\n",
    "        character_count = sum(len(line) for line in lines)\n",
    "    return line_count, word_count, character_count\n",
    "\n",
    "file_path = 'example.txt'\n",
    "lines, words, characters = count_text_file(file_path)\n",
    "print(f\"Lines: {lines}, Words: {words}, Charcters: {characters}\")"
   ]
  },
  {
   "cell_type": "markdown",
   "id": "6f9ea3d6",
   "metadata": {},
   "source": [
    "The `w+` mode in python is used to open a file for both reading and writing. If the file does not existm it will be created. If the file exists, its content is truncated(i.e., the file is overwritten)."
   ]
  },
  {
   "cell_type": "code",
   "execution_count": null,
   "id": "c5c632a1",
   "metadata": {},
   "outputs": [
    {
     "name": "stdout",
     "output_type": "stream",
     "text": [
      "Hello World!\n",
      "This is a new line\n",
      "\n"
     ]
    }
   ],
   "source": [
    "## writing and then reading the file\n",
    "\n",
    "with open('example.txt', 'w+') as file:\n",
    "  file.write('Hello World!\\n')\n",
    "  file.write('This is a new line\\n')\n",
    "  \n",
    "  # Move the file cursor to the beginning to read the content from the start\n",
    "  file.seek(0)\n",
    "  \n",
    "  # read the content of the file\n",
    "  content = file.read()\n",
    "  print(content)"
   ]
  }
 ],
 "metadata": {
  "kernelspec": {
   "display_name": "base",
   "language": "python",
   "name": "python3"
  },
  "language_info": {
   "codemirror_mode": {
    "name": "ipython",
    "version": 3
   },
   "file_extension": ".py",
   "mimetype": "text/x-python",
   "name": "python",
   "nbconvert_exporter": "python",
   "pygments_lexer": "ipython3",
   "version": "3.12.7"
  }
 },
 "nbformat": 4,
 "nbformat_minor": 5
}
