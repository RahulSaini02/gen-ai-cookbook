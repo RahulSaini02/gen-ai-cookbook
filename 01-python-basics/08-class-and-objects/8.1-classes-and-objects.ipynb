{
 "cells": [
  {
   "cell_type": "markdown",
   "id": "9845c0e8",
   "metadata": {},
   "source": [
    "# Object-Oriented Programming (OOP)\n",
    "\n",
    "Object-Oriented Programming (OOP) is a programming paradigm that uses \"objects\" to design applications and computer programs. OOP allows for modeling real-world scenarios using classes and objects."
   ]
  },
  {
   "cell_type": "markdown",
   "id": "6b2dff91",
   "metadata": {},
   "source": [
    "## 1. Class & Object\n",
    "\n",
    "- `Class` is the blueprint.\n",
    "- `Object` is an instance of the class."
   ]
  },
  {
   "cell_type": "code",
   "execution_count": 1,
   "id": "290c93ef",
   "metadata": {},
   "outputs": [],
   "source": [
    "class BankAccount:\n",
    "    def __init__(self, account_holder, balance=0):\n",
    "        self.account_holder = account_holder\n",
    "        self.balance = balance\n",
    "\n",
    "\n",
    "# Creating objects\n",
    "acc1 = BankAccount(\"Alice\", 1000)\n",
    "acc2 = BankAccount(\"Bob\", 500)"
   ]
  },
  {
   "cell_type": "markdown",
   "id": "7a5c42ef",
   "metadata": {},
   "source": [
    "## 2. Encapsulation\n",
    "\n",
    "Hiding internal details (e.g., balance) and exposing only necessary methods."
   ]
  },
  {
   "cell_type": "code",
   "execution_count": 2,
   "id": "716f1fc2",
   "metadata": {},
   "outputs": [
    {
     "name": "stdout",
     "output_type": "stream",
     "text": [
      "1300\n"
     ]
    }
   ],
   "source": [
    "class BankAccount:\n",
    "    def __init__(self, account_holder, balance=0):\n",
    "        self.account_holder = account_holder\n",
    "        self.__balance = balance  # Private attribute\n",
    "\n",
    "    def deposit(self, amount):\n",
    "        if amount > 0:\n",
    "            self.__balance += amount\n",
    "\n",
    "    def withdraw(self, amount):\n",
    "        if 0 < amount <= self.__balance:\n",
    "            self.__balance -= amount\n",
    "\n",
    "    def get_balance(self):\n",
    "        return self.__balance\n",
    "\n",
    "\n",
    "acc = BankAccount(\"Alice\", 1000)\n",
    "acc.deposit(500)\n",
    "acc.withdraw(200)\n",
    "print(acc.get_balance())  # 1300\n"
   ]
  },
  {
   "cell_type": "markdown",
   "id": "ba7cba95",
   "metadata": {},
   "source": [
    "## 3. Inheritance\n",
    "\n",
    "Inheritance is a fundamental concept in OOP that allows a class to inherit attributes and methods from another class.\n",
    "\n",
    "Creating a new class from an existing one."
   ]
  },
  {
   "cell_type": "code",
   "execution_count": 3,
   "id": "e97b08c3",
   "metadata": {},
   "outputs": [
    {
     "name": "stdout",
     "output_type": "stream",
     "text": [
      "1030.0\n"
     ]
    }
   ],
   "source": [
    "class SavingsAccount(BankAccount):\n",
    "    def __init__(self, account_holder, balance=0, interest_rate=0.03):\n",
    "        super().__init__(account_holder, balance)\n",
    "        self.interest_rate = interest_rate\n",
    "\n",
    "    def add_interest(self):\n",
    "        interest = self.get_balance() * self.interest_rate\n",
    "        self.deposit(interest)\n",
    "\n",
    "\n",
    "savings = SavingsAccount(\"Alice\", 1000)\n",
    "savings.add_interest()\n",
    "print(savings.get_balance())  # 1030.0"
   ]
  },
  {
   "cell_type": "markdown",
   "id": "776ee597",
   "metadata": {},
   "source": [
    "## 4. Polymorphism\n",
    "\n",
    "It is a core concept in OOP that allows objects of different classes to be treated ad objects of a common superclass.\n",
    "\n",
    "It provides a way to perform a single action in different forms.\n",
    "\n",
    "Ploymorphism is typically achieved through method overridding and interfaces."
   ]
  },
  {
   "cell_type": "markdown",
   "id": "2d8345c7",
   "metadata": {},
   "source": [
    "### Method Overriding\n",
    "\n",
    "Method overriding allows a child class to provide a specific implementation of a method that is already defined in its parent class."
   ]
  },
  {
   "cell_type": "code",
   "execution_count": 4,
   "id": "c6194dc4",
   "metadata": {},
   "outputs": [
    {
     "name": "stdout",
     "output_type": "stream",
     "text": [
      "Alice's balance is 1300\n",
      "Alice's balance is 1030.0\n"
     ]
    }
   ],
   "source": [
    "def show_balance(account):\n",
    "    print(f\"{account.account_holder}'s balance is {account.get_balance()}\")\n",
    "\n",
    "\n",
    "show_balance(acc)  # Regular BankAccount\n",
    "show_balance(savings)  # SavingsAccount with interest"
   ]
  },
  {
   "cell_type": "markdown",
   "id": "67933130",
   "metadata": {},
   "source": [
    "## 5. Abstraction\n",
    "\n",
    "- Hiding complexity using abstract classes (via abc module)."
   ]
  },
  {
   "cell_type": "code",
   "execution_count": 5,
   "id": "a5b69aaf",
   "metadata": {},
   "outputs": [
    {
     "name": "stdout",
     "output_type": "stream",
     "text": [
      "10000\n"
     ]
    }
   ],
   "source": [
    "from abc import ABC, abstractmethod\n",
    "\n",
    "\n",
    "class Account(ABC):\n",
    "    @abstractmethod\n",
    "    def get_balance(self):\n",
    "        pass\n",
    "\n",
    "\n",
    "class FixedDeposit(Account):\n",
    "    def __init__(self, amount):\n",
    "        self.__amount = amount\n",
    "\n",
    "    def get_balance(self):\n",
    "        return self.__amount\n",
    "\n",
    "\n",
    "fd = FixedDeposit(10000)\n",
    "print(fd.get_balance())  # 10000\n"
   ]
  }
 ],
 "metadata": {
  "kernelspec": {
   "display_name": ".venv",
   "language": "python",
   "name": "python3"
  },
  "language_info": {
   "codemirror_mode": {
    "name": "ipython",
    "version": 3
   },
   "file_extension": ".py",
   "mimetype": "text/x-python",
   "name": "python",
   "nbconvert_exporter": "python",
   "pygments_lexer": "ipython3",
   "version": "3.13.3"
  }
 },
 "nbformat": 4,
 "nbformat_minor": 5
}
